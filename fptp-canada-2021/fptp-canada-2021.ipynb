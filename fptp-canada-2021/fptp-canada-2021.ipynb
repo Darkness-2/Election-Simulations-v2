{
 "cells": [
  {
   "cell_type": "markdown",
   "source": [
    "# First-past-the-post election using the existing Canadian system\r\n",
    "\r\n",
    "### Using the existing Canadian electoral system, calculate the outcome of the federal election"
   ],
   "metadata": {}
  },
  {
   "cell_type": "markdown",
   "source": [
    "## Setup"
   ],
   "metadata": {}
  },
  {
   "cell_type": "code",
   "execution_count": 1,
   "source": [
    "# Imports\r\n",
    "import math\r\n",
    "import numpy as np\r\n",
    "import pandas as pd"
   ],
   "outputs": [],
   "metadata": {}
  },
  {
   "cell_type": "code",
   "execution_count": 2,
   "source": [
    "# Import data\r\n",
    "\r\n",
    "election_data = pd.read_csv('../data/2021-canada-federal-results.csv')"
   ],
   "outputs": [],
   "metadata": {}
  },
  {
   "cell_type": "code",
   "execution_count": 3,
   "source": [
    "# Generate metadata\r\n",
    "\r\n",
    "ridings = {r['Riding ID'] for i, r in election_data.iterrows()}\r\n",
    "provinces = {r['Province ID'] for i, r in election_data.iterrows()}\r\n",
    "parties = {r['Party ID'] for i, r in election_data.iterrows()}"
   ],
   "outputs": [],
   "metadata": {}
  },
  {
   "cell_type": "code",
   "execution_count": 4,
   "source": [
    "# Validate the votes total\r\n",
    "# 2021 Federal Total Valid Votes = 17,042,591 (from elections.ca)\r\n",
    "\r\n",
    "election_data['Votes'].sum()"
   ],
   "outputs": [
    {
     "output_type": "execute_result",
     "data": {
      "text/plain": [
       "17004786"
      ]
     },
     "metadata": {},
     "execution_count": 4
    }
   ],
   "metadata": {}
  },
  {
   "cell_type": "markdown",
   "source": [
    "## Declare winners in each riding"
   ],
   "metadata": {}
  },
  {
   "cell_type": "code",
   "execution_count": 5,
   "source": [
    "# Add a winner column to the dataframe\r\n",
    "\r\n",
    "election_data['Winner'] = False"
   ],
   "outputs": [],
   "metadata": {}
  },
  {
   "cell_type": "code",
   "execution_count": 6,
   "source": [
    "# For each riding, set the winner\r\n",
    "\r\n",
    "for riding in ridings:\r\n",
    "    # Grab the relevant rows for the riding\r\n",
    "    riding_data = election_data.loc[election_data['Riding ID'] == riding]\r\n",
    "    \r\n",
    "    # Determine the index of the candidate with the maximum votes\r\n",
    "    winner_index = riding_data['Votes'].idxmax()\r\n",
    "    \r\n",
    "    # Set the winner column to True for that candidate\r\n",
    "    election_data.loc[winner_index, 'Winner'] = True"
   ],
   "outputs": [],
   "metadata": {}
  },
  {
   "cell_type": "code",
   "execution_count": 7,
   "source": [
    "# Generate a table of just the winners\r\n",
    "\r\n",
    "winners = election_data.loc[election_data['Winner'] == True]"
   ],
   "outputs": [],
   "metadata": {}
  },
  {
   "cell_type": "code",
   "execution_count": 8,
   "source": [
    "# Verify we selected 338 winners\r\n",
    "\r\n",
    "len(winners.index)"
   ],
   "outputs": [
    {
     "output_type": "execute_result",
     "data": {
      "text/plain": [
       "338"
      ]
     },
     "metadata": {},
     "execution_count": 8
    }
   ],
   "metadata": {}
  },
  {
   "cell_type": "markdown",
   "source": [
    "## Summarize the results by party"
   ],
   "metadata": {}
  },
  {
   "cell_type": "code",
   "execution_count": 9,
   "source": [
    "# Create a table of the results by party\r\n",
    "\r\n",
    "party_results = pd.DataFrame(columns=['Seats', 'Seats %', 'Votes', 'Votes %'], index=list(parties))\r\n",
    "\r\n",
    "# Calculate results by party\r\n",
    "for party in parties:\r\n",
    "    # Determine how many seats were won\r\n",
    "    party_results.loc[party, 'Seats'] = len(winners.loc[winners['Party ID'] == party].index)\r\n",
    "    # Determine how many total votes were received\r\n",
    "    party_results.loc[party, 'Votes'] = election_data.loc[election_data['Party ID'] == party, 'Votes'].sum()"
   ],
   "outputs": [],
   "metadata": {}
  },
  {
   "cell_type": "code",
   "execution_count": 10,
   "source": [
    "# Fill in % columns\r\n",
    "\r\n",
    "party_results['Seats %'] = party_results['Seats'] / party_results['Seats'].sum() * 100\r\n",
    "party_results['Votes %'] = party_results['Votes'] / party_results['Votes'].sum() * 100"
   ],
   "outputs": [],
   "metadata": {}
  },
  {
   "cell_type": "code",
   "execution_count": 11,
   "source": [
    "# Sort and validate the results\r\n",
    "# 2021 Federal = LPC 159 | CPC 119 | BQ 33 | NDP 25 | GRE 2\r\n",
    "\r\n",
    "party_results.loc[(party_results['Votes %'] > 1) | (party_results['Seats'] > 0)].sort_values(by=['Seats', 'Votes'], ascending=False).style.format('{:.1f}')"
   ],
   "outputs": [
    {
     "output_type": "execute_result",
     "data": {
      "text/html": [
       "<style type=\"text/css\">\n",
       "</style>\n",
       "<table id=\"T_e72d4_\">\n",
       "  <thead>\n",
       "    <tr>\n",
       "      <th class=\"blank level0\" >&nbsp;</th>\n",
       "      <th class=\"col_heading level0 col0\" >Seats</th>\n",
       "      <th class=\"col_heading level0 col1\" >Seats %</th>\n",
       "      <th class=\"col_heading level0 col2\" >Votes</th>\n",
       "      <th class=\"col_heading level0 col3\" >Votes %</th>\n",
       "    </tr>\n",
       "  </thead>\n",
       "  <tbody>\n",
       "    <tr>\n",
       "      <th id=\"T_e72d4_level0_row0\" class=\"row_heading level0 row0\" >LPC</th>\n",
       "      <td id=\"T_e72d4_row0_col0\" class=\"data row0 col0\" >159.0</td>\n",
       "      <td id=\"T_e72d4_row0_col1\" class=\"data row0 col1\" >47.0</td>\n",
       "      <td id=\"T_e72d4_row0_col2\" class=\"data row0 col2\" >5548206.0</td>\n",
       "      <td id=\"T_e72d4_row0_col3\" class=\"data row0 col3\" >32.6</td>\n",
       "    </tr>\n",
       "    <tr>\n",
       "      <th id=\"T_e72d4_level0_row1\" class=\"row_heading level0 row1\" >CPC</th>\n",
       "      <td id=\"T_e72d4_row1_col0\" class=\"data row1 col0\" >119.0</td>\n",
       "      <td id=\"T_e72d4_row1_col1\" class=\"data row1 col1\" >35.2</td>\n",
       "      <td id=\"T_e72d4_row1_col2\" class=\"data row1 col2\" >5737200.0</td>\n",
       "      <td id=\"T_e72d4_row1_col3\" class=\"data row1 col3\" >33.7</td>\n",
       "    </tr>\n",
       "    <tr>\n",
       "      <th id=\"T_e72d4_level0_row2\" class=\"row_heading level0 row2\" >BQ</th>\n",
       "      <td id=\"T_e72d4_row2_col0\" class=\"data row2 col0\" >33.0</td>\n",
       "      <td id=\"T_e72d4_row2_col1\" class=\"data row2 col1\" >9.8</td>\n",
       "      <td id=\"T_e72d4_row2_col2\" class=\"data row2 col2\" >1301438.0</td>\n",
       "      <td id=\"T_e72d4_row2_col3\" class=\"data row2 col3\" >7.7</td>\n",
       "    </tr>\n",
       "    <tr>\n",
       "      <th id=\"T_e72d4_level0_row3\" class=\"row_heading level0 row3\" >NDP</th>\n",
       "      <td id=\"T_e72d4_row3_col0\" class=\"data row3 col0\" >25.0</td>\n",
       "      <td id=\"T_e72d4_row3_col1\" class=\"data row3 col1\" >7.4</td>\n",
       "      <td id=\"T_e72d4_row3_col2\" class=\"data row3 col2\" >3026575.0</td>\n",
       "      <td id=\"T_e72d4_row3_col3\" class=\"data row3 col3\" >17.8</td>\n",
       "    </tr>\n",
       "    <tr>\n",
       "      <th id=\"T_e72d4_level0_row4\" class=\"row_heading level0 row4\" >GRE</th>\n",
       "      <td id=\"T_e72d4_row4_col0\" class=\"data row4 col0\" >2.0</td>\n",
       "      <td id=\"T_e72d4_row4_col1\" class=\"data row4 col1\" >0.6</td>\n",
       "      <td id=\"T_e72d4_row4_col2\" class=\"data row4 col2\" >394194.0</td>\n",
       "      <td id=\"T_e72d4_row4_col3\" class=\"data row4 col3\" >2.3</td>\n",
       "    </tr>\n",
       "    <tr>\n",
       "      <th id=\"T_e72d4_level0_row5\" class=\"row_heading level0 row5\" >PPC</th>\n",
       "      <td id=\"T_e72d4_row5_col0\" class=\"data row5 col0\" >0.0</td>\n",
       "      <td id=\"T_e72d4_row5_col1\" class=\"data row5 col1\" >0.0</td>\n",
       "      <td id=\"T_e72d4_row5_col2\" class=\"data row5 col2\" >842228.0</td>\n",
       "      <td id=\"T_e72d4_row5_col3\" class=\"data row5 col3\" >5.0</td>\n",
       "    </tr>\n",
       "  </tbody>\n",
       "</table>\n"
      ],
      "text/plain": [
       "<pandas.io.formats.style.Styler at 0x1b7da981cd0>"
      ]
     },
     "metadata": {},
     "execution_count": 11
    }
   ],
   "metadata": {}
  },
  {
   "cell_type": "markdown",
   "source": [
    "## Calculate the Gallagher Index\r\n",
    "Measure of election disproprtionality between seats received and votes received. (https://en.wikipedia.org/wiki/Gallagher_index)"
   ],
   "metadata": {}
  },
  {
   "cell_type": "code",
   "execution_count": 12,
   "source": [
    "# Add to the table to determine the Gallagher index (sqrt of half the sum of the squared difference between seats and votes)\r\n",
    "\r\n",
    "party_results['Diff'] = party_results['Seats %'] - party_results['Votes %']\r\n",
    "party_results['Diff**2'] = party_results['Diff'] ** 2"
   ],
   "outputs": [],
   "metadata": {}
  },
  {
   "cell_type": "code",
   "execution_count": 13,
   "source": [
    "# Calculate the Gallagher index\r\n",
    "\r\n",
    "gallagher_index = math.sqrt(party_results['Diff**2'].sum() / 2)\r\n",
    "print('Gallagher index is', round(gallagher_index, 2))"
   ],
   "outputs": [
    {
     "output_type": "stream",
     "name": "stdout",
     "text": [
      "Gallagher index is 13.23\n"
     ]
    }
   ],
   "metadata": {}
  },
  {
   "cell_type": "markdown",
   "source": [
    "## Export the results"
   ],
   "metadata": {}
  },
  {
   "cell_type": "code",
   "execution_count": 14,
   "source": [
    "# Start an ExcelWriter to export the results\r\n",
    "\r\n",
    "with pd.ExcelWriter('results.xlsx') as xls:\r\n",
    "    party_results.sort_values(by=['Seats', 'Votes'], ascending=False).to_excel(xls, sheet_name='Party Results')\r\n",
    "    election_data.to_excel(xls, sheet_name='Details')"
   ],
   "outputs": [],
   "metadata": {}
  }
 ],
 "metadata": {
  "orig_nbformat": 4,
  "language_info": {
   "name": "python",
   "version": "3.9.6",
   "mimetype": "text/x-python",
   "codemirror_mode": {
    "name": "ipython",
    "version": 3
   },
   "pygments_lexer": "ipython3",
   "nbconvert_exporter": "python",
   "file_extension": ".py"
  },
  "kernelspec": {
   "name": "python3",
   "display_name": "Python 3.9.6 64-bit ('venv': venv)"
  },
  "interpreter": {
   "hash": "eab476b0f0a9fc6c0bca7bb93a5618dc63bbb74d279cef6df175ddab787ab98f"
  }
 },
 "nbformat": 4,
 "nbformat_minor": 2
}