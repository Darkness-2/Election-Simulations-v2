{
 "cells": [
  {
   "cell_type": "markdown",
   "source": [
    "# Mixed-member-proportional election using the New Zealand electoral system\r\n",
    "\r\n",
    "### Using the New Zealand system as inspiration, simulate the results of the election if Canada used the same system\r\n",
    "https://en.wikipedia.org/wiki/Electoral_system_of_New_Zealand"
   ],
   "metadata": {}
  },
  {
   "cell_type": "markdown",
   "source": [
    "## Setup"
   ],
   "metadata": {}
  },
  {
   "cell_type": "code",
   "execution_count": 1,
   "source": [
    "# Imports\r\n",
    "import math\r\n",
    "import numpy as np\r\n",
    "import pandas as pd"
   ],
   "outputs": [],
   "metadata": {}
  },
  {
   "cell_type": "code",
   "execution_count": 2,
   "source": [
    "# Import data\r\n",
    "\r\n",
    "election_data = pd.read_csv('../data/2021-canada-federal-results.csv')"
   ],
   "outputs": [],
   "metadata": {}
  },
  {
   "cell_type": "code",
   "execution_count": 3,
   "source": [
    "# Generate metadata\r\n",
    "\r\n",
    "ridings = {r['Riding ID'] for i, r in election_data.iterrows()}\r\n",
    "provinces = {r['Province ID'] for i, r in election_data.iterrows()}\r\n",
    "parties = {r['Party ID'] for i, r in election_data.iterrows()}"
   ],
   "outputs": [],
   "metadata": {}
  },
  {
   "cell_type": "code",
   "execution_count": 4,
   "source": [
    "# Validate the votes total\r\n",
    "# 2019 Federal Total Valid Votes = 17,042,591 (from elections.ca)\r\n",
    "\r\n",
    "election_data['Votes'].sum()"
   ],
   "outputs": [
    {
     "output_type": "execute_result",
     "data": {
      "text/plain": [
       "17004786"
      ]
     },
     "metadata": {},
     "execution_count": 4
    }
   ],
   "metadata": {}
  },
  {
   "cell_type": "markdown",
   "source": [
    "## Convert FPTP data to MMP data"
   ],
   "metadata": {}
  },
  {
   "cell_type": "code",
   "execution_count": 5,
   "source": [
    "# In MMP, each person gets two votes, a party vote and a local representative vote\r\n",
    "\r\n",
    "election_data['Party Votes'] = election_data['Votes']\r\n",
    "\r\n",
    "# Remove independent party votes\r\n",
    "election_data.loc[election_data['Party ID'] == 'IND', 'Party Votes'] = 0\r\n",
    "\r\n",
    "# Rename votes to local votes\r\n",
    "election_data = election_data.rename(columns={'Votes': 'Local Votes'})"
   ],
   "outputs": [],
   "metadata": {}
  },
  {
   "cell_type": "markdown",
   "source": [
    "## Declare winners in each riding"
   ],
   "metadata": {}
  },
  {
   "cell_type": "code",
   "execution_count": 6,
   "source": [
    "# Add a winner column to the dataframe\r\n",
    "\r\n",
    "election_data['Winner'] = False"
   ],
   "outputs": [],
   "metadata": {}
  },
  {
   "cell_type": "code",
   "execution_count": 7,
   "source": [
    "# For each riding, set the winner\r\n",
    "\r\n",
    "for riding in ridings:\r\n",
    "    # Grab the relevant rows for the riding\r\n",
    "    riding_data = election_data.loc[election_data['Riding ID'] == riding]\r\n",
    "    \r\n",
    "    # Determine the index of the candidate with the maximum votes\r\n",
    "    winner_index = riding_data['Local Votes'].idxmax()\r\n",
    "    \r\n",
    "    # Set the winner column to True for that candidate\r\n",
    "    election_data.loc[winner_index, 'Winner'] = True"
   ],
   "outputs": [],
   "metadata": {}
  },
  {
   "cell_type": "code",
   "execution_count": 8,
   "source": [
    "# Generate a table of just the winners\r\n",
    "\r\n",
    "winners = election_data.loc[election_data['Winner'] == True]"
   ],
   "outputs": [],
   "metadata": {}
  },
  {
   "cell_type": "code",
   "execution_count": 9,
   "source": [
    "# Verify we selected 338 winners\r\n",
    "\r\n",
    "len(winners.index)"
   ],
   "outputs": [
    {
     "output_type": "execute_result",
     "data": {
      "text/plain": [
       "338"
      ]
     },
     "metadata": {},
     "execution_count": 9
    }
   ],
   "metadata": {}
  },
  {
   "cell_type": "markdown",
   "source": [
    "## Determine the total seat distribution"
   ],
   "metadata": {}
  },
  {
   "cell_type": "code",
   "execution_count": 10,
   "source": [
    "# Determine which parties are eligible for list seat distribution\r\n",
    "# In the New Zealand system, parties are eligible if they receive at least 5% of the party vote, or if they win a riding\r\n",
    "\r\n",
    "threshold = 0.05\r\n",
    "\r\n",
    "eligible_parties = []\r\n",
    "for party in parties:\r\n",
    "    # Add them to eligible if they received >5% of the total vote\r\n",
    "    if election_data.loc[election_data['Party ID'] == party, 'Party Votes'].sum() >= election_data['Party Votes'].sum() * threshold:\r\n",
    "        eligible_parties.append(party)\r\n",
    "        continue\r\n",
    "    \r\n",
    "    # Add them to eligible if they won at least one riding\r\n",
    "    if len(winners.loc[winners['Party ID'] == party].index) > 0:\r\n",
    "        eligible_parties.append(party)\r\n",
    "\r\n",
    "# Remove independents\r\n",
    "if 'IND' in eligible_parties:\r\n",
    "    eligible_parties.remove('IND')\r\n",
    "\r\n",
    "eligible_parties"
   ],
   "outputs": [
    {
     "output_type": "execute_result",
     "data": {
      "text/plain": [
       "['LPC', 'GRE', 'NDP', 'CPC', 'BQ']"
      ]
     },
     "metadata": {},
     "execution_count": 10
    }
   ],
   "metadata": {}
  },
  {
   "cell_type": "code",
   "execution_count": 11,
   "source": [
    "# Determine how many list seats there will be\r\n",
    "# In New Zealand, the split between local seats and list seats is 60/40\r\n",
    "\r\n",
    "local_seats = 338\r\n",
    "proportion_local = 0.6\r\n",
    "\r\n",
    "list_seats = local_seats / proportion_local - local_seats\r\n",
    "list_seats = math.floor(list_seats)  # Flooring to remove fractional seats\r\n",
    "\r\n",
    "total_seats = local_seats + list_seats\r\n",
    "\r\n",
    "print('Local seats:', local_seats, 'List seats:', list_seats, 'Total seats:', total_seats)"
   ],
   "outputs": [
    {
     "output_type": "stream",
     "name": "stdout",
     "text": [
      "Local seats: 338 List seats: 225 Total seats: 563\n"
     ]
    }
   ],
   "metadata": {}
  },
  {
   "cell_type": "code",
   "execution_count": 12,
   "source": [
    "# Calculate the number of seats to allocate\r\n",
    "# Normally, this would just be the total number of seats in parliament, but if an independent wins a riding, the seats to allocate is reduced\r\n",
    "\r\n",
    "seats_to_allocate = total_seats - len(winners.loc[winners['Party ID'] == 'IND'].index)\r\n",
    "seats_to_allocate"
   ],
   "outputs": [
    {
     "output_type": "execute_result",
     "data": {
      "text/plain": [
       "563"
      ]
     },
     "metadata": {},
     "execution_count": 12
    }
   ],
   "metadata": {}
  },
  {
   "cell_type": "code",
   "execution_count": 13,
   "source": [
    "# Build the quotient table, using the Sainte-Lague method to determint the quotients for each party\r\n",
    "# The highest x quotients are selected for seats, where x is the number of seats to allocate\r\n",
    "\r\n",
    "columns = ['Divisor'] + eligible_parties\r\n",
    "quotient_table = pd.DataFrame(columns=columns, index=range(1, seats_to_allocate + 1))\r\n",
    "\r\n",
    "# Calculate the divisors\r\n",
    "quotient_table['Divisor'] = 2 * quotient_table.index - 1\r\n",
    "\r\n",
    "# Fill in each party's column\r\n",
    "for party in eligible_parties:\r\n",
    "    quotient_table[party] = election_data.loc[election_data['Party ID'] == party, 'Party Votes'].sum()\r\n",
    "    quotient_table[party] = quotient_table[party] / quotient_table['Divisor']\r\n",
    "\r\n",
    "quotient_table.head().style.format('{:.1f}')"
   ],
   "outputs": [
    {
     "output_type": "execute_result",
     "data": {
      "text/html": [
       "<style type=\"text/css\">\n",
       "</style>\n",
       "<table id=\"T_c7294_\">\n",
       "  <thead>\n",
       "    <tr>\n",
       "      <th class=\"blank level0\" >&nbsp;</th>\n",
       "      <th class=\"col_heading level0 col0\" >Divisor</th>\n",
       "      <th class=\"col_heading level0 col1\" >LPC</th>\n",
       "      <th class=\"col_heading level0 col2\" >GRE</th>\n",
       "      <th class=\"col_heading level0 col3\" >NDP</th>\n",
       "      <th class=\"col_heading level0 col4\" >CPC</th>\n",
       "      <th class=\"col_heading level0 col5\" >BQ</th>\n",
       "    </tr>\n",
       "  </thead>\n",
       "  <tbody>\n",
       "    <tr>\n",
       "      <th id=\"T_c7294_level0_row0\" class=\"row_heading level0 row0\" >1</th>\n",
       "      <td id=\"T_c7294_row0_col0\" class=\"data row0 col0\" >1.0</td>\n",
       "      <td id=\"T_c7294_row0_col1\" class=\"data row0 col1\" >5548206.0</td>\n",
       "      <td id=\"T_c7294_row0_col2\" class=\"data row0 col2\" >394194.0</td>\n",
       "      <td id=\"T_c7294_row0_col3\" class=\"data row0 col3\" >3026575.0</td>\n",
       "      <td id=\"T_c7294_row0_col4\" class=\"data row0 col4\" >5737200.0</td>\n",
       "      <td id=\"T_c7294_row0_col5\" class=\"data row0 col5\" >1301438.0</td>\n",
       "    </tr>\n",
       "    <tr>\n",
       "      <th id=\"T_c7294_level0_row1\" class=\"row_heading level0 row1\" >2</th>\n",
       "      <td id=\"T_c7294_row1_col0\" class=\"data row1 col0\" >3.0</td>\n",
       "      <td id=\"T_c7294_row1_col1\" class=\"data row1 col1\" >1849402.0</td>\n",
       "      <td id=\"T_c7294_row1_col2\" class=\"data row1 col2\" >131398.0</td>\n",
       "      <td id=\"T_c7294_row1_col3\" class=\"data row1 col3\" >1008858.3</td>\n",
       "      <td id=\"T_c7294_row1_col4\" class=\"data row1 col4\" >1912400.0</td>\n",
       "      <td id=\"T_c7294_row1_col5\" class=\"data row1 col5\" >433812.7</td>\n",
       "    </tr>\n",
       "    <tr>\n",
       "      <th id=\"T_c7294_level0_row2\" class=\"row_heading level0 row2\" >3</th>\n",
       "      <td id=\"T_c7294_row2_col0\" class=\"data row2 col0\" >5.0</td>\n",
       "      <td id=\"T_c7294_row2_col1\" class=\"data row2 col1\" >1109641.2</td>\n",
       "      <td id=\"T_c7294_row2_col2\" class=\"data row2 col2\" >78838.8</td>\n",
       "      <td id=\"T_c7294_row2_col3\" class=\"data row2 col3\" >605315.0</td>\n",
       "      <td id=\"T_c7294_row2_col4\" class=\"data row2 col4\" >1147440.0</td>\n",
       "      <td id=\"T_c7294_row2_col5\" class=\"data row2 col5\" >260287.6</td>\n",
       "    </tr>\n",
       "    <tr>\n",
       "      <th id=\"T_c7294_level0_row3\" class=\"row_heading level0 row3\" >4</th>\n",
       "      <td id=\"T_c7294_row3_col0\" class=\"data row3 col0\" >7.0</td>\n",
       "      <td id=\"T_c7294_row3_col1\" class=\"data row3 col1\" >792600.9</td>\n",
       "      <td id=\"T_c7294_row3_col2\" class=\"data row3 col2\" >56313.4</td>\n",
       "      <td id=\"T_c7294_row3_col3\" class=\"data row3 col3\" >432367.9</td>\n",
       "      <td id=\"T_c7294_row3_col4\" class=\"data row3 col4\" >819600.0</td>\n",
       "      <td id=\"T_c7294_row3_col5\" class=\"data row3 col5\" >185919.7</td>\n",
       "    </tr>\n",
       "    <tr>\n",
       "      <th id=\"T_c7294_level0_row4\" class=\"row_heading level0 row4\" >5</th>\n",
       "      <td id=\"T_c7294_row4_col0\" class=\"data row4 col0\" >9.0</td>\n",
       "      <td id=\"T_c7294_row4_col1\" class=\"data row4 col1\" >616467.3</td>\n",
       "      <td id=\"T_c7294_row4_col2\" class=\"data row4 col2\" >43799.3</td>\n",
       "      <td id=\"T_c7294_row4_col3\" class=\"data row4 col3\" >336286.1</td>\n",
       "      <td id=\"T_c7294_row4_col4\" class=\"data row4 col4\" >637466.7</td>\n",
       "      <td id=\"T_c7294_row4_col5\" class=\"data row4 col5\" >144604.2</td>\n",
       "    </tr>\n",
       "  </tbody>\n",
       "</table>\n"
      ],
      "text/plain": [
       "<pandas.io.formats.style.Styler at 0x181dc8be7f0>"
      ]
     },
     "metadata": {},
     "execution_count": 13
    }
   ],
   "metadata": {}
  },
  {
   "cell_type": "code",
   "execution_count": 14,
   "source": [
    "# Determine the x highest quotients from all parties\r\n",
    "\r\n",
    "# First, crunch all the quotients into a list\r\n",
    "quotients = []\r\n",
    "\r\n",
    "for party in eligible_parties:\r\n",
    "    quotients += quotient_table[party].to_list()\r\n",
    "\r\n",
    "quotients.sort(reverse=True)\r\n",
    "\r\n",
    "# Select the x largest, where x is the seats to allocate \r\n",
    "# Meaning that the lowest quotient to be elected is the xth quotient\r\n",
    "quotient_required = quotients[:seats_to_allocate][-1]\r\n",
    "quotient_required"
   ],
   "outputs": [
    {
     "output_type": "execute_result",
     "data": {
      "text/plain": [
       "14236.228287841192"
      ]
     },
     "metadata": {},
     "execution_count": 14
    }
   ],
   "metadata": {}
  },
  {
   "cell_type": "code",
   "execution_count": 15,
   "source": [
    "# Determine how many seats each party is entitled to\r\n",
    "\r\n",
    "total_seat_allocation = {}\r\n",
    "for party in eligible_parties:\r\n",
    "    total_seat_allocation[party] = len(quotient_table.loc[quotient_table[party] >= quotient_required].index)\r\n",
    "\r\n",
    "total_seat_allocation"
   ],
   "outputs": [
    {
     "output_type": "execute_result",
     "data": {
      "text/plain": [
       "{'LPC': 195, 'GRE': 14, 'NDP': 106, 'CPC': 202, 'BQ': 46}"
      ]
     },
     "metadata": {},
     "execution_count": 15
    }
   ],
   "metadata": {}
  },
  {
   "cell_type": "markdown",
   "source": [
    "## Summarize the results by party"
   ],
   "metadata": {}
  },
  {
   "cell_type": "code",
   "execution_count": 16,
   "source": [
    "# Create a table of the results by party\r\n",
    "\r\n",
    "party_results = pd.DataFrame(columns=['Local Seats', 'Local Seats %', 'List Seats', 'List Seats %', 'Total Seats', 'Total Seats %', 'Local Votes', 'Local Votes %', 'Party Votes', 'Party Votes %'], index=list(parties))\r\n",
    "\r\n",
    "# Calculate results by party\r\n",
    "for party in parties:\r\n",
    "    # Determine how many local seats were won\r\n",
    "    party_results.loc[party, 'Local Seats'] = len(winners.loc[winners['Party ID'] == party].index)\r\n",
    "    # Determine how many local and party votes were received\r\n",
    "    party_results.loc[party, 'Local Votes'] = election_data.loc[election_data['Party ID'] == party, 'Local Votes'].sum()\r\n",
    "    party_results.loc[party, 'Party Votes'] = election_data.loc[election_data['Party ID'] == party, 'Party Votes'].sum()"
   ],
   "outputs": [],
   "metadata": {}
  },
  {
   "cell_type": "code",
   "execution_count": 17,
   "source": [
    "# Determine how many list seats to give each party based on the total allocation\r\n",
    "\r\n",
    "for party in parties:\r\n",
    "    # If the party has received an allocation, use that, otherwise set to zero\r\n",
    "    if party in total_seat_allocation.keys():\r\n",
    "        list_seats = total_seat_allocation[party] - party_results.loc[party, 'Local Seats']\r\n",
    "    else:\r\n",
    "        list_seats = 0\r\n",
    "\r\n",
    "    # If list seats is negative, an overhang has occured\r\n",
    "    if list_seats < 0:\r\n",
    "        list_seats = 0\r\n",
    "    \r\n",
    "    party_results.loc[party, 'List Seats'] = list_seats\r\n",
    "\r\n",
    "# Calculate the total seats\r\n",
    "party_results['Total Seats'] = party_results['Local Seats'] + party_results['List Seats']"
   ],
   "outputs": [],
   "metadata": {}
  },
  {
   "cell_type": "code",
   "execution_count": 18,
   "source": [
    "# Fill in % columns\r\n",
    "\r\n",
    "party_results['Local Seats %'] = party_results['Local Seats'] / party_results['Local Seats'].sum() * 100\r\n",
    "party_results['List Seats %'] = party_results['List Seats'] / party_results['List Seats'].sum() * 100\r\n",
    "party_results['Total Seats %'] = party_results['Total Seats'] / party_results['Total Seats'].sum() * 100\r\n",
    "party_results['Local Votes %'] = party_results['Local Votes'] / party_results['Local Votes'].sum() * 100\r\n",
    "party_results['Party Votes %'] = party_results['Party Votes'] / party_results['Party Votes'].sum() * 100"
   ],
   "outputs": [],
   "metadata": {}
  },
  {
   "cell_type": "code",
   "execution_count": 26,
   "source": [
    "# Sort and validate the results\r\n",
    "# 2021 Federal = LPC 159 | CPC 119 | BQ 33 | NDP 25 | GRE 2\r\n",
    "\r\n",
    "party_results.loc[(party_results['Party Votes %'] > 1) | (party_results['Total Seats'] > 0)].sort_values(by=['Total Seats', 'Party Votes'], ascending=False).style.format('{:.1f}')"
   ],
   "outputs": [
    {
     "output_type": "execute_result",
     "data": {
      "text/html": [
       "<style type=\"text/css\">\n",
       "</style>\n",
       "<table id=\"T_cf169_\">\n",
       "  <thead>\n",
       "    <tr>\n",
       "      <th class=\"blank level0\" >&nbsp;</th>\n",
       "      <th class=\"col_heading level0 col0\" >Local Seats</th>\n",
       "      <th class=\"col_heading level0 col1\" >Local Seats %</th>\n",
       "      <th class=\"col_heading level0 col2\" >List Seats</th>\n",
       "      <th class=\"col_heading level0 col3\" >List Seats %</th>\n",
       "      <th class=\"col_heading level0 col4\" >Total Seats</th>\n",
       "      <th class=\"col_heading level0 col5\" >Total Seats %</th>\n",
       "      <th class=\"col_heading level0 col6\" >Local Votes</th>\n",
       "      <th class=\"col_heading level0 col7\" >Local Votes %</th>\n",
       "      <th class=\"col_heading level0 col8\" >Party Votes</th>\n",
       "      <th class=\"col_heading level0 col9\" >Party Votes %</th>\n",
       "      <th class=\"col_heading level0 col10\" >Diff</th>\n",
       "      <th class=\"col_heading level0 col11\" >Diff**2</th>\n",
       "    </tr>\n",
       "  </thead>\n",
       "  <tbody>\n",
       "    <tr>\n",
       "      <th id=\"T_cf169_level0_row0\" class=\"row_heading level0 row0\" >CPC</th>\n",
       "      <td id=\"T_cf169_row0_col0\" class=\"data row0 col0\" >119.0</td>\n",
       "      <td id=\"T_cf169_row0_col1\" class=\"data row0 col1\" >35.2</td>\n",
       "      <td id=\"T_cf169_row0_col2\" class=\"data row0 col2\" >83.0</td>\n",
       "      <td id=\"T_cf169_row0_col3\" class=\"data row0 col3\" >36.9</td>\n",
       "      <td id=\"T_cf169_row0_col4\" class=\"data row0 col4\" >202.0</td>\n",
       "      <td id=\"T_cf169_row0_col5\" class=\"data row0 col5\" >35.9</td>\n",
       "      <td id=\"T_cf169_row0_col6\" class=\"data row0 col6\" >5737200.0</td>\n",
       "      <td id=\"T_cf169_row0_col7\" class=\"data row0 col7\" >33.7</td>\n",
       "      <td id=\"T_cf169_row0_col8\" class=\"data row0 col8\" >5737200.0</td>\n",
       "      <td id=\"T_cf169_row0_col9\" class=\"data row0 col9\" >33.8</td>\n",
       "      <td id=\"T_cf169_row0_col10\" class=\"data row0 col10\" >2.1</td>\n",
       "      <td id=\"T_cf169_row0_col11\" class=\"data row0 col11\" >4.3</td>\n",
       "    </tr>\n",
       "    <tr>\n",
       "      <th id=\"T_cf169_level0_row1\" class=\"row_heading level0 row1\" >LPC</th>\n",
       "      <td id=\"T_cf169_row1_col0\" class=\"data row1 col0\" >159.0</td>\n",
       "      <td id=\"T_cf169_row1_col1\" class=\"data row1 col1\" >47.0</td>\n",
       "      <td id=\"T_cf169_row1_col2\" class=\"data row1 col2\" >36.0</td>\n",
       "      <td id=\"T_cf169_row1_col3\" class=\"data row1 col3\" >16.0</td>\n",
       "      <td id=\"T_cf169_row1_col4\" class=\"data row1 col4\" >195.0</td>\n",
       "      <td id=\"T_cf169_row1_col5\" class=\"data row1 col5\" >34.6</td>\n",
       "      <td id=\"T_cf169_row1_col6\" class=\"data row1 col6\" >5548206.0</td>\n",
       "      <td id=\"T_cf169_row1_col7\" class=\"data row1 col7\" >32.6</td>\n",
       "      <td id=\"T_cf169_row1_col8\" class=\"data row1 col8\" >5548206.0</td>\n",
       "      <td id=\"T_cf169_row1_col9\" class=\"data row1 col9\" >32.7</td>\n",
       "      <td id=\"T_cf169_row1_col10\" class=\"data row1 col10\" >1.9</td>\n",
       "      <td id=\"T_cf169_row1_col11\" class=\"data row1 col11\" >3.8</td>\n",
       "    </tr>\n",
       "    <tr>\n",
       "      <th id=\"T_cf169_level0_row2\" class=\"row_heading level0 row2\" >NDP</th>\n",
       "      <td id=\"T_cf169_row2_col0\" class=\"data row2 col0\" >25.0</td>\n",
       "      <td id=\"T_cf169_row2_col1\" class=\"data row2 col1\" >7.4</td>\n",
       "      <td id=\"T_cf169_row2_col2\" class=\"data row2 col2\" >81.0</td>\n",
       "      <td id=\"T_cf169_row2_col3\" class=\"data row2 col3\" >36.0</td>\n",
       "      <td id=\"T_cf169_row2_col4\" class=\"data row2 col4\" >106.0</td>\n",
       "      <td id=\"T_cf169_row2_col5\" class=\"data row2 col5\" >18.8</td>\n",
       "      <td id=\"T_cf169_row2_col6\" class=\"data row2 col6\" >3026575.0</td>\n",
       "      <td id=\"T_cf169_row2_col7\" class=\"data row2 col7\" >17.8</td>\n",
       "      <td id=\"T_cf169_row2_col8\" class=\"data row2 col8\" >3026575.0</td>\n",
       "      <td id=\"T_cf169_row2_col9\" class=\"data row2 col9\" >17.8</td>\n",
       "      <td id=\"T_cf169_row2_col10\" class=\"data row2 col10\" >1.0</td>\n",
       "      <td id=\"T_cf169_row2_col11\" class=\"data row2 col11\" >1.0</td>\n",
       "    </tr>\n",
       "    <tr>\n",
       "      <th id=\"T_cf169_level0_row3\" class=\"row_heading level0 row3\" >BQ</th>\n",
       "      <td id=\"T_cf169_row3_col0\" class=\"data row3 col0\" >33.0</td>\n",
       "      <td id=\"T_cf169_row3_col1\" class=\"data row3 col1\" >9.8</td>\n",
       "      <td id=\"T_cf169_row3_col2\" class=\"data row3 col2\" >13.0</td>\n",
       "      <td id=\"T_cf169_row3_col3\" class=\"data row3 col3\" >5.8</td>\n",
       "      <td id=\"T_cf169_row3_col4\" class=\"data row3 col4\" >46.0</td>\n",
       "      <td id=\"T_cf169_row3_col5\" class=\"data row3 col5\" >8.2</td>\n",
       "      <td id=\"T_cf169_row3_col6\" class=\"data row3 col6\" >1301438.0</td>\n",
       "      <td id=\"T_cf169_row3_col7\" class=\"data row3 col7\" >7.7</td>\n",
       "      <td id=\"T_cf169_row3_col8\" class=\"data row3 col8\" >1301438.0</td>\n",
       "      <td id=\"T_cf169_row3_col9\" class=\"data row3 col9\" >7.7</td>\n",
       "      <td id=\"T_cf169_row3_col10\" class=\"data row3 col10\" >0.5</td>\n",
       "      <td id=\"T_cf169_row3_col11\" class=\"data row3 col11\" >0.3</td>\n",
       "    </tr>\n",
       "    <tr>\n",
       "      <th id=\"T_cf169_level0_row4\" class=\"row_heading level0 row4\" >GRE</th>\n",
       "      <td id=\"T_cf169_row4_col0\" class=\"data row4 col0\" >2.0</td>\n",
       "      <td id=\"T_cf169_row4_col1\" class=\"data row4 col1\" >0.6</td>\n",
       "      <td id=\"T_cf169_row4_col2\" class=\"data row4 col2\" >12.0</td>\n",
       "      <td id=\"T_cf169_row4_col3\" class=\"data row4 col3\" >5.3</td>\n",
       "      <td id=\"T_cf169_row4_col4\" class=\"data row4 col4\" >14.0</td>\n",
       "      <td id=\"T_cf169_row4_col5\" class=\"data row4 col5\" >2.5</td>\n",
       "      <td id=\"T_cf169_row4_col6\" class=\"data row4 col6\" >394194.0</td>\n",
       "      <td id=\"T_cf169_row4_col7\" class=\"data row4 col7\" >2.3</td>\n",
       "      <td id=\"T_cf169_row4_col8\" class=\"data row4 col8\" >394194.0</td>\n",
       "      <td id=\"T_cf169_row4_col9\" class=\"data row4 col9\" >2.3</td>\n",
       "      <td id=\"T_cf169_row4_col10\" class=\"data row4 col10\" >0.2</td>\n",
       "      <td id=\"T_cf169_row4_col11\" class=\"data row4 col11\" >0.0</td>\n",
       "    </tr>\n",
       "    <tr>\n",
       "      <th id=\"T_cf169_level0_row5\" class=\"row_heading level0 row5\" >PPC</th>\n",
       "      <td id=\"T_cf169_row5_col0\" class=\"data row5 col0\" >0.0</td>\n",
       "      <td id=\"T_cf169_row5_col1\" class=\"data row5 col1\" >0.0</td>\n",
       "      <td id=\"T_cf169_row5_col2\" class=\"data row5 col2\" >0.0</td>\n",
       "      <td id=\"T_cf169_row5_col3\" class=\"data row5 col3\" >0.0</td>\n",
       "      <td id=\"T_cf169_row5_col4\" class=\"data row5 col4\" >0.0</td>\n",
       "      <td id=\"T_cf169_row5_col5\" class=\"data row5 col5\" >0.0</td>\n",
       "      <td id=\"T_cf169_row5_col6\" class=\"data row5 col6\" >842228.0</td>\n",
       "      <td id=\"T_cf169_row5_col7\" class=\"data row5 col7\" >5.0</td>\n",
       "      <td id=\"T_cf169_row5_col8\" class=\"data row5 col8\" >842228.0</td>\n",
       "      <td id=\"T_cf169_row5_col9\" class=\"data row5 col9\" >5.0</td>\n",
       "      <td id=\"T_cf169_row5_col10\" class=\"data row5 col10\" >-5.0</td>\n",
       "      <td id=\"T_cf169_row5_col11\" class=\"data row5 col11\" >24.6</td>\n",
       "    </tr>\n",
       "  </tbody>\n",
       "</table>\n"
      ],
      "text/plain": [
       "<pandas.io.formats.style.Styler at 0x181f6b91b20>"
      ]
     },
     "metadata": {},
     "execution_count": 26
    }
   ],
   "metadata": {}
  },
  {
   "cell_type": "markdown",
   "source": [
    "## Calculate the Gallagher Index\r\n",
    "Measure of election disproprtionality between seats received and votes received. (https://en.wikipedia.org/wiki/Gallagher_index)"
   ],
   "metadata": {}
  },
  {
   "cell_type": "code",
   "execution_count": 20,
   "source": [
    "# Add to the table to determine the Gallagher index (sqrt of half the sum of the squared difference between seats and votes)\r\n",
    "\r\n",
    "party_results['Diff'] = party_results['Total Seats %'] - party_results['Party Votes %']\r\n",
    "party_results['Diff**2'] = party_results['Diff'] ** 2"
   ],
   "outputs": [],
   "metadata": {}
  },
  {
   "cell_type": "code",
   "execution_count": 21,
   "source": [
    "# Calculate the Gallagher index\r\n",
    "\r\n",
    "gallagher_index = math.sqrt(party_results['Diff**2'].sum() / 2)\r\n",
    "print('Gallagher index is', round(gallagher_index, 2))"
   ],
   "outputs": [
    {
     "output_type": "stream",
     "name": "stdout",
     "text": [
      "Gallagher index is 4.13\n"
     ]
    }
   ],
   "metadata": {}
  },
  {
   "cell_type": "markdown",
   "source": [
    "## Export the results"
   ],
   "metadata": {}
  },
  {
   "cell_type": "code",
   "execution_count": 25,
   "source": [
    "# Start an ExcelWriter to export the results\r\n",
    "\r\n",
    "with pd.ExcelWriter('results.xlsx') as xls:\r\n",
    "    party_results.sort_values(by=['Total Seats', 'Party Votes'], ascending=False).to_excel(xls, sheet_name='Party Results')\r\n",
    "    election_data.to_excel(xls, sheet_name='Details')"
   ],
   "outputs": [],
   "metadata": {}
  },
  {
   "cell_type": "code",
   "execution_count": null,
   "source": [],
   "outputs": [],
   "metadata": {}
  }
 ],
 "metadata": {
  "orig_nbformat": 4,
  "language_info": {
   "name": "python",
   "version": "3.9.6",
   "mimetype": "text/x-python",
   "codemirror_mode": {
    "name": "ipython",
    "version": 3
   },
   "pygments_lexer": "ipython3",
   "nbconvert_exporter": "python",
   "file_extension": ".py"
  },
  "kernelspec": {
   "name": "python3",
   "display_name": "Python 3.9.6 64-bit ('venv': venv)"
  },
  "interpreter": {
   "hash": "eab476b0f0a9fc6c0bca7bb93a5618dc63bbb74d279cef6df175ddab787ab98f"
  }
 },
 "nbformat": 4,
 "nbformat_minor": 2
}