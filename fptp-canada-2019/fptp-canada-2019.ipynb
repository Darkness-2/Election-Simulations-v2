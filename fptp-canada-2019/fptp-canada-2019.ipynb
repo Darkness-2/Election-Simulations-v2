{
 "cells": [
  {
   "cell_type": "markdown",
   "source": [
    "# First-past-the-post election\n",
    "\n",
    "### Using the existing Canadian electoral system, calculate the outcome of the federal election"
   ],
   "metadata": {}
  },
  {
   "cell_type": "markdown",
   "source": [
    "## Setup"
   ],
   "metadata": {}
  },
  {
   "cell_type": "code",
   "execution_count": 1,
   "source": [
    "# Imports\r\n",
    "import math\r\n",
    "import numpy as np\r\n",
    "import pandas as pd"
   ],
   "outputs": [],
   "metadata": {}
  },
  {
   "cell_type": "code",
   "execution_count": 2,
   "source": [
    "# Import data\r\n",
    "\r\n",
    "election_data = pd.read_csv('../data/2019-canada-federal-results.csv')"
   ],
   "outputs": [],
   "metadata": {}
  },
  {
   "cell_type": "code",
   "execution_count": 3,
   "source": [
    "# Generate metadata\r\n",
    "\r\n",
    "ridings = {r['Riding ID'] for i, r in election_data.iterrows()}\r\n",
    "provinces = {r['Province ID'] for i, r in election_data.iterrows()}\r\n",
    "parties = {r['Party ID'] for i, r in election_data.iterrows()}"
   ],
   "outputs": [],
   "metadata": {}
  },
  {
   "cell_type": "code",
   "execution_count": 4,
   "source": [
    "# Validate the votes total\r\n",
    "# 2019 Federal Total Valid Votes = 18,170,880 (from elections.ca)\r\n",
    "\r\n",
    "election_data['Votes'].sum()"
   ],
   "outputs": [
    {
     "output_type": "execute_result",
     "data": {
      "text/plain": [
       "18170880"
      ]
     },
     "metadata": {},
     "execution_count": 4
    }
   ],
   "metadata": {}
  },
  {
   "cell_type": "markdown",
   "source": [
    "## Declare winners in each riding"
   ],
   "metadata": {}
  },
  {
   "cell_type": "code",
   "execution_count": 5,
   "source": [
    "# Add a winner column to the dataframe\r\n",
    "\r\n",
    "election_data['Winner'] = False"
   ],
   "outputs": [],
   "metadata": {}
  },
  {
   "cell_type": "code",
   "execution_count": 6,
   "source": [
    "# For each riding, set the winner\r\n",
    "\r\n",
    "for riding in ridings:\r\n",
    "    # Grab the relevant rows for the riding\r\n",
    "    riding_data = election_data.loc[election_data['Riding ID'] == riding]\r\n",
    "    \r\n",
    "    # Determine the index of the candidate with the maximum votes\r\n",
    "    winner_index = riding_data['Votes'].idxmax()\r\n",
    "    \r\n",
    "    # Set the winner column to True for that candidate\r\n",
    "    election_data.loc[winner_index, 'Winner'] = True"
   ],
   "outputs": [],
   "metadata": {}
  },
  {
   "cell_type": "code",
   "execution_count": 7,
   "source": [
    "# Generate a table of just the winners\r\n",
    "\r\n",
    "winners = election_data.loc[election_data['Winner'] == True]"
   ],
   "outputs": [],
   "metadata": {}
  },
  {
   "cell_type": "code",
   "execution_count": 8,
   "source": [
    "# Verify we selected 338 winners\r\n",
    "\r\n",
    "len(winners.index)"
   ],
   "outputs": [
    {
     "output_type": "execute_result",
     "data": {
      "text/plain": [
       "338"
      ]
     },
     "metadata": {},
     "execution_count": 8
    }
   ],
   "metadata": {}
  },
  {
   "cell_type": "markdown",
   "source": [
    "## Summarize the results by party"
   ],
   "metadata": {}
  },
  {
   "cell_type": "code",
   "execution_count": 9,
   "source": [
    "# Create a table of the results by party\r\n",
    "\r\n",
    "party_results = pd.DataFrame(columns=['Seats', 'Seats %', 'Votes', 'Votes %'], index=list(parties))\r\n",
    "\r\n",
    "# Calculate results by party\r\n",
    "for party in parties:\r\n",
    "    # Determine how many seats were won\r\n",
    "    party_results.loc[party, 'Seats'] = len(winners.loc[winners['Party ID'] == party].index)\r\n",
    "    # Determine how many total votes were received\r\n",
    "    party_results.loc[party, 'Votes'] = election_data.loc[election_data['Party ID'] == party, 'Votes'].sum()"
   ],
   "outputs": [],
   "metadata": {}
  },
  {
   "cell_type": "code",
   "execution_count": 10,
   "source": [
    "# Fill in % columns\r\n",
    "\r\n",
    "party_results['Seats %'] = party_results['Seats'] / party_results['Seats'].sum() * 100\r\n",
    "party_results['Votes %'] = party_results['Votes'] / party_results['Votes'].sum() * 100"
   ],
   "outputs": [],
   "metadata": {}
  },
  {
   "cell_type": "code",
   "execution_count": 11,
   "source": [
    "# Sort and validate the results\r\n",
    "# 2019 Federal = LPC 157 | CPC 121 | BQ 32 | NDP 24 | GRE 3 | IND 1\r\n",
    "\r\n",
    "party_results.loc[(party_results['Votes %'] > 1) | (party_results['Seats'] > 0)].sort_values('Seats', ascending=False)"
   ],
   "outputs": [
    {
     "output_type": "execute_result",
     "data": {
      "text/html": [
       "<div>\n",
       "<style scoped>\n",
       "    .dataframe tbody tr th:only-of-type {\n",
       "        vertical-align: middle;\n",
       "    }\n",
       "\n",
       "    .dataframe tbody tr th {\n",
       "        vertical-align: top;\n",
       "    }\n",
       "\n",
       "    .dataframe thead th {\n",
       "        text-align: right;\n",
       "    }\n",
       "</style>\n",
       "<table border=\"1\" class=\"dataframe\">\n",
       "  <thead>\n",
       "    <tr style=\"text-align: right;\">\n",
       "      <th></th>\n",
       "      <th>Seats</th>\n",
       "      <th>Seats %</th>\n",
       "      <th>Votes</th>\n",
       "      <th>Votes %</th>\n",
       "    </tr>\n",
       "  </thead>\n",
       "  <tbody>\n",
       "    <tr>\n",
       "      <th>LPC</th>\n",
       "      <td>157</td>\n",
       "      <td>46.449704</td>\n",
       "      <td>6018728</td>\n",
       "      <td>33.122931</td>\n",
       "    </tr>\n",
       "    <tr>\n",
       "      <th>CPC</th>\n",
       "      <td>121</td>\n",
       "      <td>35.798817</td>\n",
       "      <td>6239227</td>\n",
       "      <td>34.336405</td>\n",
       "    </tr>\n",
       "    <tr>\n",
       "      <th>BQ</th>\n",
       "      <td>32</td>\n",
       "      <td>9.467456</td>\n",
       "      <td>1387030</td>\n",
       "      <td>7.633257</td>\n",
       "    </tr>\n",
       "    <tr>\n",
       "      <th>NDP</th>\n",
       "      <td>24</td>\n",
       "      <td>7.100592</td>\n",
       "      <td>2903722</td>\n",
       "      <td>15.980085</td>\n",
       "    </tr>\n",
       "    <tr>\n",
       "      <th>GRE</th>\n",
       "      <td>3</td>\n",
       "      <td>0.887574</td>\n",
       "      <td>1189607</td>\n",
       "      <td>6.546777</td>\n",
       "    </tr>\n",
       "    <tr>\n",
       "      <th>IND</th>\n",
       "      <td>1</td>\n",
       "      <td>0.295858</td>\n",
       "      <td>74291</td>\n",
       "      <td>0.408846</td>\n",
       "    </tr>\n",
       "    <tr>\n",
       "      <th>PPC</th>\n",
       "      <td>0</td>\n",
       "      <td>0.0</td>\n",
       "      <td>294092</td>\n",
       "      <td>1.61848</td>\n",
       "    </tr>\n",
       "  </tbody>\n",
       "</table>\n",
       "</div>"
      ],
      "text/plain": [
       "    Seats    Seats %    Votes    Votes %\n",
       "LPC   157  46.449704  6018728  33.122931\n",
       "CPC   121  35.798817  6239227  34.336405\n",
       "BQ     32   9.467456  1387030   7.633257\n",
       "NDP    24   7.100592  2903722  15.980085\n",
       "GRE     3   0.887574  1189607   6.546777\n",
       "IND     1   0.295858    74291   0.408846\n",
       "PPC     0        0.0   294092    1.61848"
      ]
     },
     "metadata": {},
     "execution_count": 11
    }
   ],
   "metadata": {}
  },
  {
   "cell_type": "markdown",
   "source": [
    "## Calculate the Gallagher Index\r\n",
    "Measure of election disproprtionality between seats received and votes received. (https://en.wikipedia.org/wiki/Gallagher_index)"
   ],
   "metadata": {}
  },
  {
   "cell_type": "code",
   "execution_count": 12,
   "source": [
    "# Add to the table to determine the Gallagher index (sqrt of half the sum of the squared difference between seats and votes)\r\n",
    "\r\n",
    "party_results['Diff'] = party_results['Seats %'] - party_results['Votes %']\r\n",
    "party_results['Diff**2'] = party_results['Diff'] ** 2"
   ],
   "outputs": [],
   "metadata": {}
  },
  {
   "cell_type": "code",
   "execution_count": 13,
   "source": [
    "# Calculate the Gallagher index\r\n",
    "\r\n",
    "gallagher_index = math.sqrt(party_results['Diff**2'].sum() / 2)\r\n",
    "print('Gallagher index is', round(gallagher_index, 2))"
   ],
   "outputs": [
    {
     "output_type": "stream",
     "name": "stdout",
     "text": [
      "Gallagher index is 12.18\n"
     ]
    }
   ],
   "metadata": {}
  }
 ],
 "metadata": {
  "orig_nbformat": 4,
  "language_info": {
   "name": "python",
   "version": "3.9.6",
   "mimetype": "text/x-python",
   "codemirror_mode": {
    "name": "ipython",
    "version": 3
   },
   "pygments_lexer": "ipython3",
   "nbconvert_exporter": "python",
   "file_extension": ".py"
  },
  "kernelspec": {
   "name": "python3",
   "display_name": "Python 3.9.6 64-bit ('venv': venv)"
  },
  "interpreter": {
   "hash": "eab476b0f0a9fc6c0bca7bb93a5618dc63bbb74d279cef6df175ddab787ab98f"
  }
 },
 "nbformat": 4,
 "nbformat_minor": 2
}